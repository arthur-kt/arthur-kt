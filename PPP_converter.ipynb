{
  "nbformat": 4,
  "nbformat_minor": 0,
  "metadata": {
    "colab": {
      "provenance": [],
      "authorship_tag": "ABX9TyOuo8keOnKVo5H15EGBL6hl",
      "include_colab_link": true
    },
    "kernelspec": {
      "name": "python3",
      "display_name": "Python 3"
    },
    "language_info": {
      "name": "python"
    }
  },
  "cells": [
    {
      "cell_type": "markdown",
      "metadata": {
        "id": "view-in-github",
        "colab_type": "text"
      },
      "source": [
        "<a href=\"https://colab.research.google.com/github/arthur-kt/arthur-kt/blob/main/PPP_converter.ipynb\" target=\"_parent\"><img src=\"https://colab.research.google.com/assets/colab-badge.svg\" alt=\"Open In Colab\"/></a>"
      ]
    },
    {
      "cell_type": "code",
      "execution_count": null,
      "metadata": {
        "id": "hUdaX_A4ATVD"
      },
      "outputs": [],
      "source": [
        "from fredapi import Fred\n",
        "from pppfy.converter import Converter\n",
        "import pandas as pd\n",
        "\n",
        "# Inicialize o conversor do PPPfy e configure a chave do FRED\n",
        "c = Converter()\n",
        "fred = Fred(api_key='11cb1e53b57458acaddd29a16e0efe1b')\n",
        "\n",
        "# Obtenha o CPI dos EUA para ajustar pela inflação\n",
        "cpi_data = fred.get_series('CPIAUCSL')\n",
        "cpi_df = cpi_data.to_frame(name='CPI')\n",
        "cpi_df.index = pd.to_datetime(cpi_df.index)\n",
        "cpi_df_ano = cpi_df.resample('Y').mean()  # Média anual do CPI\n",
        "\n",
        "# CPI atual para trazer o valor a 2024\n",
        "cpi_atual = cpi_df_ano.loc['2024'].values[0]\n",
        "\n",
        "# Dados de exemplo\n",
        "dados = {\n",
        "    'País': ['BR', 'DE', 'IN'],  # Usando códigos ISO2 dos países\n",
        "    'Ano': [2010, 2015, 2012],\n",
        "    'Gasto_Local': [5000, 7000, 3000]  # Gasto em moeda local\n",
        "}\n",
        "\n",
        "df = pd.DataFrame(dados)\n",
        "\n",
        "# Função para converter gasto local em dólar PPP e ajustar pela inflação dos EUA\n",
        "def converter_para_dolar_corrente(row):\n",
        "    # Converta o gasto local para dólares ajustados pelo PPP usando pppfy\n",
        "    ppp_adjusted = c.get_price_mapping(\n",
        "        source_country=row['País'],\n",
        "        source_price=row['Gasto_Local'],\n",
        "        destination_country=\"US\",\n",
        "        year=row['Ano']\n",
        "    )\n",
        "    gasto_em_dolar_ppp = ppp_adjusted[\"ppp_adjusted_local_price\"]\n",
        "\n",
        "    # Ajuste pela inflação dos EUA\n",
        "    cpi_ano_referencia = cpi_df_ano.loc[str(row['Ano'])].values[0]\n",
        "    gasto_ajustado = gasto_em_dolar_ppp * (cpi_atual / cpi_ano_referencia)\n",
        "\n",
        "    return gasto_ajustado\n",
        "\n",
        "# Aplicar a função para cada linha no DataFrame\n",
        "df['Gasto_Ajustado_Dolar'] = df.apply(converter_para_dolar_corrente, axis=1)\n",
        "\n",
        "# Resultado final\n",
        "print(df[['País', 'Ano', 'Gasto_Local', 'Gasto_Ajustado_Dolar']])\n"
      ]
    }
  ]
}